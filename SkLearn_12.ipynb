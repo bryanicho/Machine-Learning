{
 "cells": [
  {
   "attachments": {
    "cce64650-9a22-4e2b-810c-27d8d88e69d6.png": {
     "image/png": "[encoded data removed]"
    }
   },
   "cell_type": "markdown",
   "id": "eb2a8b57-db68-4cbd-81bd-9a3fb819dd3e",
   "metadata": {},
   "source": [
    "![download.png](attachment:cce64650-9a22-4e2b-810c-27d8d88e69d6.png)12 Logistic Regression pada Binary Classification Task\n",
    "\n",
    "2273009 - Bryan Nicholas\n",
    "\n",
    "Source: Youtube Indonesia Belajar\n",
    "\n",
    "Referensi: https://en.wikipedia.org/wiki/Logistic_regression\n",
    "\n",
    "Formula Dasar\n",
    "\n",
    "Simple Linear Regression\n",
    "\n",
    "y = \\alpha + \\beta x\n",
    "g(x) = \\alpha + \\beta x\n",
    "Multiple Linear Regression\n",
    "\n",
    "y = \\alpha + \\beta_1x_1 + \\beta_2x_2 + \\dots + \\beta_nx_n\n",
    "g(X) = \\alpha + \\beta X\n",
    "Logistic Regression\n",
    "\n",
    "g(X) = sigmoid(\\alpha + \\beta X)\n",
    "sigmoid(x) = \\frac{1}{1 + exp(-x)}\n",
    "sigmoid.png\n",
    "\n",
    "Dataset: SMS Spam Collection Data Set"
   ]
  },
  {
   "cell_type": "code",
   "execution_count": null,
   "id": "d3216114-2011-4c9c-90d6-189dd168f272",
   "metadata": {},
   "outputs": [],
   "source": [
    "import pandas as pd\n",
    "\n",
    "df = pd.read_csv('SMSSpamCollection',\n",
    "                 sep='\\t',\n",
    "                 header=None,\n",
    "                 names=['label', 'sms'])\n",
    "df.head()"
   ]
  },
  {
   "cell_type": "code",
   "execution_count": null,
   "id": "08a6470a-5700-4cb6-adc3-b12a617bdca9",
   "metadata": {},
   "outputs": [],
   "source": [
    "df['label'].value_counts()"
   ]
  },
  {
   "cell_type": "markdown",
   "id": "52481e8d-7536-466b-ba2d-0af96d9e6132",
   "metadata": {},
   "source": [
    "Training & Testing Dataset"
   ]
  },
  {
   "cell_type": "code",
   "execution_count": null,
   "id": "e7a9bdca-2bb9-4024-86e0-21a85301ea04",
   "metadata": {},
   "outputs": [],
   "source": [
    "from sklearn.preprocessing import LabelBinarizer\n",
    "\n",
    "X = df['sms'].values\n",
    "y = df['label'].values\n",
    "\n",
    "lb = LabelBinarizer()\n",
    "y = lb.fit_transform(y).ravel()\n",
    "lb.classes_"
   ]
  },
  {
   "cell_type": "code",
   "execution_count": null,
   "id": "cff61c97-a361-44d1-89dd-9f192ac10734",
   "metadata": {},
   "outputs": [],
   "source": [
    "from sklearn.model_selection import train_test_split\n",
    "\n",
    "X_train, X_test, y_train, y_test = train_test_split(X,\n",
    "                                                    y,\n",
    "                                                    test_size=0.25,\n",
    "                                                    random_state=0)\n",
    "\n",
    "print(X_train, '\\n')\n",
    "print(y_train)"
   ]
  },
  {
   "cell_type": "markdown",
   "id": "7fc53c89-9c6b-4d9b-b13c-6eef1c766c4c",
   "metadata": {},
   "source": [
    "Feature Extraction dengan TF-IDF"
   ]
  },
  {
   "cell_type": "code",
   "execution_count": null,
   "id": "83e87b34-a53c-4b88-a9e4-8259cd821eeb",
   "metadata": {},
   "outputs": [],
   "source": [
    "from sklearn.feature_extraction.text import TfidfVectorizer\n",
    "\n",
    "vectorizer = TfidfVectorizer(stop_words='english')\n",
    "\n",
    "X_train_tfidf = vectorizer.fit_transform(X_train)\n",
    "X_test_tfidf = vectorizer.transform(X_test)\n",
    "\n",
    "print(X_train_tfidf)"
   ]
  },
  {
   "cell_type": "markdown",
   "id": "a9aa6f66-2d7b-42c9-8a94-ef1283cef6e4",
   "metadata": {},
   "source": [
    "Binary Classification dengan Logistic Regression"
   ]
  },
  {
   "cell_type": "code",
   "execution_count": null,
   "id": "5d6dc6da-929d-4858-ac96-b20629f8883e",
   "metadata": {},
   "outputs": [],
   "source": [
    "from sklearn.linear_model import LogisticRegression\n",
    "\n",
    "model = LogisticRegression()\n",
    "model.fit(X_train_tfidf, y_train)\n",
    "y_pred = model.predict(X_test_tfidf)\n",
    "\n",
    "for pred, sms in zip(y_pred[:5], X_test[:5]):\n",
    "    print(f'PRED: {pred} - SMS: {sms}\\n')"
   ]
  },
  {
   "cell_type": "markdown",
   "id": "a157b1a2-01ee-425c-8f4a-9cc9c448408a",
   "metadata": {},
   "source": [
    "Evaluation Metrics pada Binary Classification\n",
    "\n",
    "Confusion Matrix\n",
    "Accuracy\n",
    "Precission & Recall\n",
    "F1 Score\n",
    "ROC\n",
    "Terminologi Dasar\n",
    "\n",
    "True Positive (TP)\n",
    "True Negative (TN)\n",
    "False Positive (FP)\n",
    "False Negative (FN)\n",
    "Confusion Matrix\n",
    "\n",
    "Confusion matrix seringkali juga dikenal sebagai error matrix.\n",
    "\n",
    "Referensi: https://en.wikipedia.org/wiki/Confusion_matrix\n",
    "\n"
   ]
  },
  {
   "cell_type": "code",
   "execution_count": null,
   "id": "f0140321-9a2c-43b0-b706-96cc57be39d9",
   "metadata": {},
   "outputs": [],
   "source": [
    "from sklearn.metrics import confusion_matrix\n",
    "\n",
    "matrix = confusion_matrix(y_test, y_pred)\n",
    "matrix"
   ]
  },
  {
   "cell_type": "code",
   "execution_count": null,
   "id": "b0bc840f-71eb-471e-b502-7712f55e8edb",
   "metadata": {},
   "outputs": [],
   "source": [
    "tn, fp, fn, tp = matrix.ravel()\n",
    "\n",
    "print(f'TN: {tn}')\n",
    "print(f'FP: {fp}')\n",
    "print(f'FN: {fn}')\n",
    "print(f'TP: {tp}')"
   ]
  },
  {
   "cell_type": "code",
   "execution_count": null,
   "id": "90bb32cf-9d53-4880-9beb-ef8b76d304ed",
   "metadata": {},
   "outputs": [],
   "source": [
    "import matplotlib.pyplot as plt\n",
    "\n",
    "plt.matshow(matrix)\n",
    "plt.colorbar()\n",
    "\n",
    "plt.title('Confusion Matrix')\n",
    "plt.ylabel('True label')\n",
    "plt.xlabel('Predicted label')\n",
    "plt.show()"
   ]
  },
  {
   "cell_type": "markdown",
   "id": "1c05d584-937f-4168-add4-aa9dc3f17556",
   "metadata": {},
   "source": [
    "Accuracy\n",
    "\n",
    "Accuracy mengukur porsi dari hasil prediksi yang tepat.\n",
    "\n",
    "Accuracy = \\frac{TP + TN}{TP + TN + FP + FN} = \\frac{correct}{total}\n",
    "\n",
    "Referensi: https://en.wikipedia.org/wiki/Accuracy_and_precision"
   ]
  },
  {
   "cell_type": "code",
   "execution_count": null,
   "id": "17dd7909-d7ba-4325-a5f3-b1c0af9de261",
   "metadata": {},
   "outputs": [],
   "source": [
    "from sklearn.metrics import accuracy_score\n",
    "\n",
    "accuracy_score(y_test, y_pred)"
   ]
  },
  {
   "cell_type": "markdown",
   "id": "30602c7b-040d-46db-864c-0be5fa5f2073",
   "metadata": {},
   "source": [
    "Precission & Recall\n",
    "\n",
    "Selain menggunakan accuracy, performa dari suatu classifier umumnya juga diukur berdasarkan nilai Precission dan Recall.\n",
    "\n",
    "Referensi: https://en.wikipedia.org/wiki/Precision_and_recall\n",
    "\n",
    "Precission or Positive Predictive Value (PPV)\n",
    "\n",
    "Precission = \\frac{TP}{TP + FP}\n",
    "\n",
    "Referensi: https://en.wikipedia.org/wiki/Positive_and_negative_predictive_values"
   ]
  },
  {
   "cell_type": "code",
   "execution_count": null,
   "id": "506766b2-22cf-423d-a9df-da33a60a2c89",
   "metadata": {},
   "outputs": [],
   "source": [
    "from sklearn.metrics import precision_score\n",
    "\n",
    "precision_score(y_test, y_pred)"
   ]
  },
  {
   "cell_type": "code",
   "execution_count": null,
   "id": "c8885023-25c4-4b88-8a23-410f8019ffad",
   "metadata": {},
   "outputs": [],
   "source": [
    "from sklearn.metrics import recall_score\n",
    "\n",
    "recall_score(y_test, y_pred)"
   ]
  },
  {
   "cell_type": "markdown",
   "id": "daedb7e6-237e-4e70-a8ba-a3773959d95c",
   "metadata": {},
   "source": [
    "F1-Score\n",
    "\n",
    "F1-score atau F1-measure adalah harmonic mean dari precission dan recall.\n",
    "\n",
    "F1\\ score = \\frac{precission\\ \\times\\ recall}{precission\\ +\\ recall}\n",
    "\n",
    "Referensi: https://en.wikipedia.org/wiki/F-score"
   ]
  },
  {
   "cell_type": "code",
   "execution_count": null,
   "id": "9b3d481a-b4a9-4a70-af15-920bd36db759",
   "metadata": {},
   "outputs": [],
   "source": [
    "from sklearn.metrics import f1_score\n",
    "\n",
    "f1_score(y_test, y_pred)"
   ]
  },
  {
   "cell_type": "markdown",
   "id": "d72dd0ca-f9a8-45f4-b1e5-01f487397613",
   "metadata": {},
   "source": [
    "ROC: Receiver Operating Characteristic\n",
    "\n",
    "ROC menawarkan visualisasi terhadap performa dari classifier dengan membandingkan nilai Recall (TPR) dan nilai Fallout (FPR)\n",
    "\n",
    "fallout = \\frac{FP}{TN+FP}\n",
    "\n",
    "Referensi: https://en.wikipedia.org/wiki/Receiver_operating_characteristic"
   ]
  },
  {
   "cell_type": "code",
   "execution_count": null,
   "id": "407af92d-232f-4346-87b2-be8394c79b88",
   "metadata": {},
   "outputs": [],
   "source": [
    "from sklearn.metrics import roc_curve, auc\n",
    "\n",
    "prob_estimates = model.predict_proba(X_test_tfidf)\n",
    "\n",
    "fpr, tpr, threshhold = roc_curve(y_test, prob_estimates[:, 1])\n",
    "nilai_auc = auc(fpr, tpr)\n",
    "\n",
    "plt.plot(fpr, tpr, 'b', label=f'AUC={nilai_auc}')\n",
    "plt.plot([0,1], [0,1], 'r--', label='Random CLassifier')\n",
    "\n",
    "plt.title('ROC: Receiver Operating Characteristic')\n",
    "plt.xlabel('Fallout or False Positive Rate')\n",
    "plt.ylabel('Recall or True Positive Rate')\n",
    "plt.legend()\n",
    "plt.show()"
   ]
  }
 ],
 "metadata": {
  "kernelspec": {
   "display_name": "Python 3 (ipykernel)",
   "language": "python",
   "name": "python3"
  },
  "language_info": {
   "codemirror_mode": {
    "name": "ipython",
    "version": 3
   },
   "file_extension": ".py",
   "mimetype": "text/x-python",
   "name": "python",
   "nbconvert_exporter": "python",
   "pygments_lexer": "ipython3",
   "version": "3.12.0"
  }
 },
 "nbformat": 4,
 "nbformat_minor": 5
}
