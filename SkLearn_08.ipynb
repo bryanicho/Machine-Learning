{
 "cells": [
  {
   "cell_type": "markdown",
   "id": "0a32af17-a9c3-4d22-9056-bf4ff4786e59",
   "metadata": {},
   "source": [
    "08 Multiple Linear Regression & Polynomial Regression"
   ]
  },
  {
   "cell_type": "markdown",
   "id": "a37512a3-a8b8-4029-8d9a-84e640db8ce0",
   "metadata": {},
   "source": [
    "Bryan Nicholas - 2273009"
   ]
  },
  {
   "cell_type": "markdown",
   "id": "ec698fd3-06cc-49ef-aeb7-559c9ffa3aa0",
   "metadata": {},
   "source": [
    "Sample Dataset\n",
    "\n",
    "Training Dataset"
   ]
  },
  {
   "cell_type": "code",
   "execution_count": 1,
   "id": "1dc7b34b-359d-488b-8184-7ed19aeca3ce",
   "metadata": {},
   "outputs": [
    {
     "data": {
      "text/html": [
       "<div>\n",
       "<style scoped>\n",
       "    .dataframe tbody tr th:only-of-type {\n",
       "        vertical-align: middle;\n",
       "    }\n",
       "\n",
       "    .dataframe tbody tr th {\n",
       "        vertical-align: top;\n",
       "    }\n",
       "\n",
       "    .dataframe thead th {\n",
       "        text-align: right;\n",
       "    }\n",
       "</style>\n",
       "<table border=\"1\" class=\"dataframe\">\n",
       "  <thead>\n",
       "    <tr style=\"text-align: right;\">\n",
       "      <th></th>\n",
       "      <th>diameter</th>\n",
       "      <th>n_topping</th>\n",
       "      <th>harga</th>\n",
       "    </tr>\n",
       "  </thead>\n",
       "  <tbody>\n",
       "    <tr>\n",
       "      <th>0</th>\n",
       "      <td>6</td>\n",
       "      <td>2</td>\n",
       "      <td>7.0</td>\n",
       "    </tr>\n",
       "    <tr>\n",
       "      <th>1</th>\n",
       "      <td>8</td>\n",
       "      <td>1</td>\n",
       "      <td>9.0</td>\n",
       "    </tr>\n",
       "    <tr>\n",
       "      <th>2</th>\n",
       "      <td>10</td>\n",
       "      <td>0</td>\n",
       "      <td>13.0</td>\n",
       "    </tr>\n",
       "    <tr>\n",
       "      <th>3</th>\n",
       "      <td>14</td>\n",
       "      <td>2</td>\n",
       "      <td>17.5</td>\n",
       "    </tr>\n",
       "    <tr>\n",
       "      <th>4</th>\n",
       "      <td>18</td>\n",
       "      <td>0</td>\n",
       "      <td>18.0</td>\n",
       "    </tr>\n",
       "  </tbody>\n",
       "</table>\n",
       "</div>"
      ],
      "text/plain": [
       "   diameter  n_topping  harga\n",
       "0         6          2    7.0\n",
       "1         8          1    9.0\n",
       "2        10          0   13.0\n",
       "3        14          2   17.5\n",
       "4        18          0   18.0"
      ]
     },
     "execution_count": 1,
     "metadata": {},
     "output_type": "execute_result"
    }
   ],
   "source": [
    "import pandas as pd\n",
    "\n",
    "pizza = {'diameter': [6, 8, 10, 14, 18], \n",
    "         'n_topping': [2, 1, 0, 2, 0],\n",
    "         'harga': [7, 9, 13, 17.5, 18]}\n",
    "\n",
    "train_pizza_df = pd.DataFrame(pizza)\n",
    "train_pizza_df"
   ]
  },
  {
   "cell_type": "markdown",
   "id": "4550face-bfd9-4891-aa33-9544b6862fe6",
   "metadata": {},
   "source": [
    "Testing Dataset"
   ]
  },
  {
   "cell_type": "code",
   "execution_count": 2,
   "id": "2f2f9e2d-2de7-48f6-bec8-eae2e11756db",
   "metadata": {},
   "outputs": [
    {
     "data": {
      "text/html": [
       "<div>\n",
       "<style scoped>\n",
       "    .dataframe tbody tr th:only-of-type {\n",
       "        vertical-align: middle;\n",
       "    }\n",
       "\n",
       "    .dataframe tbody tr th {\n",
       "        vertical-align: top;\n",
       "    }\n",
       "\n",
       "    .dataframe thead th {\n",
       "        text-align: right;\n",
       "    }\n",
       "</style>\n",
       "<table border=\"1\" class=\"dataframe\">\n",
       "  <thead>\n",
       "    <tr style=\"text-align: right;\">\n",
       "      <th></th>\n",
       "      <th>diameter</th>\n",
       "      <th>n_topping</th>\n",
       "      <th>harga</th>\n",
       "    </tr>\n",
       "  </thead>\n",
       "  <tbody>\n",
       "    <tr>\n",
       "      <th>0</th>\n",
       "      <td>8</td>\n",
       "      <td>2</td>\n",
       "      <td>11.0</td>\n",
       "    </tr>\n",
       "    <tr>\n",
       "      <th>1</th>\n",
       "      <td>9</td>\n",
       "      <td>0</td>\n",
       "      <td>8.5</td>\n",
       "    </tr>\n",
       "    <tr>\n",
       "      <th>2</th>\n",
       "      <td>11</td>\n",
       "      <td>2</td>\n",
       "      <td>15.0</td>\n",
       "    </tr>\n",
       "    <tr>\n",
       "      <th>3</th>\n",
       "      <td>16</td>\n",
       "      <td>2</td>\n",
       "      <td>18.0</td>\n",
       "    </tr>\n",
       "    <tr>\n",
       "      <th>4</th>\n",
       "      <td>12</td>\n",
       "      <td>0</td>\n",
       "      <td>11.0</td>\n",
       "    </tr>\n",
       "  </tbody>\n",
       "</table>\n",
       "</div>"
      ],
      "text/plain": [
       "   diameter  n_topping  harga\n",
       "0         8          2   11.0\n",
       "1         9          0    8.5\n",
       "2        11          2   15.0\n",
       "3        16          2   18.0\n",
       "4        12          0   11.0"
      ]
     },
     "execution_count": 2,
     "metadata": {},
     "output_type": "execute_result"
    }
   ],
   "source": [
    "pizza = {'diameter': [8, 9, 11, 16, 12], \n",
    "         'n_topping': [2, 0, 2, 2, 0],\n",
    "         'harga': [11, 8.5, 15, 18, 11]}\n",
    "\n",
    "test_pizza_df = pd.DataFrame(pizza)\n",
    "test_pizza_df"
   ]
  },
  {
   "cell_type": "markdown",
   "id": "e5598121-69dd-47fc-acba-ebcfcba12eaa",
   "metadata": {},
   "source": [
    "Preprocessing Dataset"
   ]
  },
  {
   "cell_type": "code",
   "execution_count": 3,
   "id": "4fe074a0-3f9a-4fa9-9f06-9ec1736c2345",
   "metadata": {},
   "outputs": [
    {
     "name": "stdout",
     "output_type": "stream",
     "text": [
      "X_train:\n",
      "[[ 6  2]\n",
      " [ 8  1]\n",
      " [10  0]\n",
      " [14  2]\n",
      " [18  0]]\n",
      "\n",
      "y_train: [ 7.   9.  13.  17.5 18. ]\n"
     ]
    }
   ],
   "source": [
    "import numpy as np\n",
    "\n",
    "X_train = np.array(train_pizza_df[['diameter', 'n_topping']])\n",
    "y_train = np.array(train_pizza_df['harga'])\n",
    "\n",
    "print(f'X_train:\\n{X_train}\\n')\n",
    "print(f'y_train: {y_train}')"
   ]
  },
  {
   "cell_type": "code",
   "execution_count": 4,
   "id": "52f914f4-8ea1-4655-b18e-83702e5e5aea",
   "metadata": {},
   "outputs": [
    {
     "name": "stdout",
     "output_type": "stream",
     "text": [
      "X_test:\n",
      "[[ 8  2]\n",
      " [ 9  0]\n",
      " [11  2]\n",
      " [16  2]\n",
      " [12  0]]\n",
      "\n",
      "y_test: [11.   8.5 15.  18.  11. ]\n"
     ]
    }
   ],
   "source": [
    "X_test = np.array(test_pizza_df[['diameter', 'n_topping']])\n",
    "y_test = np.array(test_pizza_df['harga'])\n",
    "\n",
    "print(f'X_test:\\n{X_test}\\n')\n",
    "print(f'y_test: {y_test}')"
   ]
  },
  {
   "cell_type": "markdown",
   "id": "46d0f48e-34e7-447b-85da-30d7b668b43b",
   "metadata": {},
   "source": [
    "Multiple Linear Regression\n",
    "\n",
    "Multiple Linear Regression adalah generalisasi dari Simple Linear Regression yang dapat memungkinkan untuk menggunakan beberapa explanatory variables.\n",
    "\n",
    "y = \\alpha + \\beta_1x_1 + \\beta_2x_2 + \\dots + \\beta_nx_n\n",
    "\n",
    "Referensi: https://en.wikipedia.org/wiki/Linear_regression"
   ]
  },
  {
   "cell_type": "code",
   "execution_count": 5,
   "id": "99426b3a-5c1a-410c-8474-3a20c9a22056",
   "metadata": {},
   "outputs": [
    {
     "name": "stdout",
     "output_type": "stream",
     "text": [
      "r_squared: 0.7701677731318468\n"
     ]
    }
   ],
   "source": [
    "from sklearn.linear_model import LinearRegression\n",
    "from sklearn.metrics import r2_score\n",
    "\n",
    "model = LinearRegression()\n",
    "model.fit(X_train, y_train)\n",
    "y_pred = model.predict(X_test)\n",
    "    \n",
    "print(f'r_squared: {r2_score(y_test, y_pred)}')"
   ]
  },
  {
   "cell_type": "markdown",
   "id": "ef71faca-2c5e-410d-b97e-3232c7e5cb82",
   "metadata": {},
   "source": [
    "Polynomial Regression\n",
    "\n",
    "Polynomial Regression memodelkan hubungan antara independent variable dan dependent variable y sebagai derajat polynomial dalam x.\n",
    "\n",
    "Referensi: https://en.wikipedia.org/wiki/Polynomial_regression\n",
    "\n",
    "Preprocessing Dataset"
   ]
  },
  {
   "cell_type": "code",
   "execution_count": 6,
   "id": "da55a447-cbcb-44c0-9878-8f67ac32df5f",
   "metadata": {},
   "outputs": [
    {
     "name": "stdout",
     "output_type": "stream",
     "text": [
      "X_train:\n",
      "[[ 6]\n",
      " [ 8]\n",
      " [10]\n",
      " [14]\n",
      " [18]]\n",
      "\n",
      "y_train: [ 7.   9.  13.  17.5 18. ]\n"
     ]
    }
   ],
   "source": [
    "X_train = np.array(train_pizza_df['diameter']).reshape(-1, 1)\n",
    "y_train = np.array(train_pizza_df['harga'])\n",
    "\n",
    "print(f'X_train:\\n{X_train}\\n')\n",
    "print(f'y_train: {y_train}')"
   ]
  },
  {
   "cell_type": "code",
   "execution_count": 11,
   "id": "42aa10d6-73af-44c5-b379-07c690d58dd7",
   "metadata": {},
   "outputs": [
    {
     "ename": "SyntaxError",
     "evalue": "invalid syntax (799938092.py, line 1)",
     "output_type": "error",
     "traceback": [
      "\u001b[1;36m  Cell \u001b[1;32mIn[11], line 1\u001b[1;36m\u001b[0m\n\u001b[1;33m    Polynomial Regression: Quadratic\u001b[0m\n\u001b[1;37m               ^\u001b[0m\n\u001b[1;31mSyntaxError\u001b[0m\u001b[1;31m:\u001b[0m invalid syntax\n"
     ]
    }
   ],
   "source": [
    "Polynomial Regression: Quadratic\n",
    "\n",
    "y = \\alpha + \\beta_1x + \\beta_2x^2\n",
    "\n",
    "Polynomial Features"
   ]
  },
  {
   "cell_type": "markdown",
   "id": "d6b4216e-db2f-4f57-ac6c-859abda83bf0",
   "metadata": {},
   "source": [
    "Training Model"
   ]
  },
  {
   "cell_type": "code",
   "execution_count": 8,
   "id": "6e4d64f8-2b1c-4405-b1b9-7edc03f51fcf",
   "metadata": {},
   "outputs": [
    {
     "ename": "NameError",
     "evalue": "name 'X_train_quadratic' is not defined",
     "output_type": "error",
     "traceback": [
      "\u001b[1;31m---------------------------------------------------------------------------\u001b[0m",
      "\u001b[1;31mNameError\u001b[0m                                 Traceback (most recent call last)",
      "Cell \u001b[1;32mIn[8], line 2\u001b[0m\n\u001b[0;32m      1\u001b[0m model \u001b[38;5;241m=\u001b[39m LinearRegression()\n\u001b[1;32m----> 2\u001b[0m model\u001b[38;5;241m.\u001b[39mfit(\u001b[43mX_train_quadratic\u001b[49m, y_train)\n",
      "\u001b[1;31mNameError\u001b[0m: name 'X_train_quadratic' is not defined"
     ]
    }
   ],
   "source": [
    "model = LinearRegression()\n",
    "model.fit(X_train_quadratic, y_train)"
   ]
  },
  {
   "cell_type": "markdown",
   "id": "66a73010-26ad-4bbe-b0f6-8019e20c78a6",
   "metadata": {},
   "source": [
    "Visualisasi Model"
   ]
  },
  {
   "cell_type": "code",
   "execution_count": 9,
   "id": "6d89371c-a17b-43e7-a1b7-38c2905b68cf",
   "metadata": {},
   "outputs": [
    {
     "ename": "NameError",
     "evalue": "name 'quadratic_feature' is not defined",
     "output_type": "error",
     "traceback": [
      "\u001b[1;31m---------------------------------------------------------------------------\u001b[0m",
      "\u001b[1;31mNameError\u001b[0m                                 Traceback (most recent call last)",
      "Cell \u001b[1;32mIn[9], line 4\u001b[0m\n\u001b[0;32m      1\u001b[0m \u001b[38;5;28;01mimport\u001b[39;00m \u001b[38;5;21;01mmatplotlib\u001b[39;00m\u001b[38;5;21;01m.\u001b[39;00m\u001b[38;5;21;01mpyplot\u001b[39;00m \u001b[38;5;28;01mas\u001b[39;00m \u001b[38;5;21;01mplt\u001b[39;00m\n\u001b[0;32m      3\u001b[0m X_vis \u001b[38;5;241m=\u001b[39m np\u001b[38;5;241m.\u001b[39mlinspace(\u001b[38;5;241m0\u001b[39m, \u001b[38;5;241m25\u001b[39m, \u001b[38;5;241m100\u001b[39m)\u001b[38;5;241m.\u001b[39mreshape(\u001b[38;5;241m-\u001b[39m\u001b[38;5;241m1\u001b[39m, \u001b[38;5;241m1\u001b[39m)\n\u001b[1;32m----> 4\u001b[0m X_vis_quadratic \u001b[38;5;241m=\u001b[39m \u001b[43mquadratic_feature\u001b[49m\u001b[38;5;241m.\u001b[39mtransform(X_vis)\n\u001b[0;32m      5\u001b[0m y_vis_quadratic \u001b[38;5;241m=\u001b[39m model\u001b[38;5;241m.\u001b[39mpredict(X_vis_quadratic)\n\u001b[0;32m      7\u001b[0m plt\u001b[38;5;241m.\u001b[39mscatter(X_train, y_train)\n",
      "\u001b[1;31mNameError\u001b[0m: name 'quadratic_feature' is not defined"
     ]
    }
   ],
   "source": [
    "import matplotlib.pyplot as plt\n",
    "\n",
    "X_vis = np.linspace(0, 25, 100).reshape(-1, 1)\n",
    "X_vis_quadratic = quadratic_feature.transform(X_vis)\n",
    "y_vis_quadratic = model.predict(X_vis_quadratic)\n",
    "\n",
    "plt.scatter(X_train, y_train)\n",
    "plt.plot(X_vis, y_vis_quadratic, '-r')\n",
    "\n",
    "plt.title('Perbandingan Diameter dan Harga Pizza')\n",
    "plt.xlabel('Diameter (inch)')\n",
    "plt.ylabel('Harga (dollar)')\n",
    "plt.xlim(0, 25)\n",
    "plt.ylim(0, 25)\n",
    "plt.grid(True)\n",
    "plt.show()"
   ]
  },
  {
   "cell_type": "markdown",
   "id": "ccf2dbc9-ceec-4ea6-8dc0-27f26304e5be",
   "metadata": {},
   "source": [
    "Polynomial Regression: Quadratic vs Cubic"
   ]
  },
  {
   "cell_type": "code",
   "execution_count": 10,
   "id": "2c297031-af02-48d8-90c6-e180c23de174",
   "metadata": {},
   "outputs": [
    {
     "ename": "NameError",
     "evalue": "name 'PolynomialFeatures' is not defined",
     "output_type": "error",
     "traceback": [
      "\u001b[1;31m---------------------------------------------------------------------------\u001b[0m",
      "\u001b[1;31mNameError\u001b[0m                                 Traceback (most recent call last)",
      "Cell \u001b[1;32mIn[10], line 12\u001b[0m\n\u001b[0;32m      9\u001b[0m plt\u001b[38;5;241m.\u001b[39mplot(X_vis, y_vis, \u001b[38;5;124m'\u001b[39m\u001b[38;5;124m--r\u001b[39m\u001b[38;5;124m'\u001b[39m, label\u001b[38;5;241m=\u001b[39m\u001b[38;5;124m'\u001b[39m\u001b[38;5;124mlinear\u001b[39m\u001b[38;5;124m'\u001b[39m)\n\u001b[0;32m     11\u001b[0m \u001b[38;5;66;03m# Quadratic\u001b[39;00m\n\u001b[1;32m---> 12\u001b[0m quadratic_feature \u001b[38;5;241m=\u001b[39m \u001b[43mPolynomialFeatures\u001b[49m(degree\u001b[38;5;241m=\u001b[39m\u001b[38;5;241m2\u001b[39m)\n\u001b[0;32m     13\u001b[0m X_train_quadratic \u001b[38;5;241m=\u001b[39m quadratic_feature\u001b[38;5;241m.\u001b[39mfit_transform(X_train)\n\u001b[0;32m     14\u001b[0m model \u001b[38;5;241m=\u001b[39m LinearRegression()\n",
      "\u001b[1;31mNameError\u001b[0m: name 'PolynomialFeatures' is not defined"
     ]
    },
    {
     "data": {
      "image/png": "[encoded data removed]",
      "text/plain": [
       "<Figure size 640x480 with 1 Axes>"
      ]
     },
     "metadata": {},
     "output_type": "display_data"
    }
   ],
   "source": [
    "# Training Set\n",
    "plt.scatter(X_train, y_train)\n",
    "\n",
    "# Linear\n",
    "model = LinearRegression()\n",
    "model.fit(X_train, y_train)\n",
    "X_vis = np.linspace(0, 25, 100).reshape(-1, 1)\n",
    "y_vis = model.predict(X_vis)\n",
    "plt.plot(X_vis, y_vis, '--r', label='linear')\n",
    "\n",
    "# Quadratic\n",
    "quadratic_feature = PolynomialFeatures(degree=2)\n",
    "X_train_quadratic = quadratic_feature.fit_transform(X_train)\n",
    "model = LinearRegression()\n",
    "model.fit(X_train_quadratic, y_train)\n",
    "X_vis_quadratic = quadratic_feature.transform(X_vis)\n",
    "y_vis = model.predict(X_vis_quadratic)\n",
    "plt.plot(X_vis, y_vis, '--g', label='quadratic')\n",
    "\n",
    "# Cubic\n",
    "cubic_feature = PolynomialFeatures(degree=3)\n",
    "X_train_cubic = cubic_feature.fit_transform(X_train)\n",
    "model = LinearRegression()\n",
    "model.fit(X_train_cubic, y_train)\n",
    "X_vis_cubic = cubic_feature.transform(X_vis)\n",
    "y_vis = model.predict(X_vis_cubic)\n",
    "plt.plot(X_vis, y_vis, '--y', label='cubic')\n",
    "\n",
    "plt.title('Perbandingan Diameter dan Harga Pizza')\n",
    "plt.xlabel('Diameter (inch)')\n",
    "plt.ylabel('Harga (dollar)')\n",
    "plt.legend()\n",
    "plt.xlim(0, 25)\n",
    "plt.ylim(0, 25)\n",
    "plt.grid(True)\n",
    "plt.show()"
   ]
  }
 ],
 "metadata": {
  "kernelspec": {
   "display_name": "Python 3 (ipykernel)",
   "language": "python",
   "name": "python3"
  },
  "language_info": {
   "codemirror_mode": {
    "name": "ipython",
    "version": 3
   },
   "file_extension": ".py",
   "mimetype": "text/x-python",
   "name": "python",
   "nbconvert_exporter": "python",
   "pygments_lexer": "ipython3",
   "version": "3.12.0"
  }
 },
 "nbformat": 4,
 "nbformat_minor": 5
}
