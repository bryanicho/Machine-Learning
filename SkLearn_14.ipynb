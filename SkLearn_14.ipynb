{
 "cells": [
  {
   "cell_type": "code",
   "execution_count": null,
   "id": "61778dfc-51b9-478b-a697-e42103b5ea32",
   "metadata": {},
   "outputs": [],
   "source": [
    "14 Classification Task dengan Support Vector Machine (SVM)\n",
    "\n",
    "2273009 - Bryan Nicholas\n",
    "\n",
    "Source: Youtube Indonesia Belajar\n",
    "\n",
    "Referensi: https://www.svm-tutorial.com/\n",
    "\n",
    "Konsep Dasar\n",
    "\n",
    "Decision Boundary (Hyperplane)\n",
    "\n",
    "svm_linear.png\n",
    "\n",
    "Maximum Margin\n",
    "\n",
    "svm_margin.png\n",
    "\n",
    "Linearly Inseperable & Kernel Tricks\n",
    "\n",
    "Referensi: https://www.quora.com/What-is-the-kernel-trick\n",
    "\n",
    "svm_kernel_01.png\n",
    "\n",
    "Dataset: The MNIST database of handwritten digits\n",
    "\n",
    "Referensi: http://yann.lecun.com/exdb/mnist/"
   ]
  },
  {
   "cell_type": "code",
   "execution_count": null,
   "id": "d9655c8c-1c4d-4c70-9df7-18a784831180",
   "metadata": {},
   "outputs": [],
   "source": [
    "from sklearn.datasets import fetch_openml\n",
    "\n",
    "X, y = fetch_openml('mnist_784', data_home='./dataset/mnist', return_X_y=True)\n",
    "X.shape"
   ]
  },
  {
   "cell_type": "code",
   "execution_count": null,
   "id": "88a9f67d-8dd2-4e0f-b097-7b20fa76171c",
   "metadata": {},
   "outputs": [],
   "source": [
    "import matplotlib.pyplot as plt\n",
    "import matplotlib.cm as cm\n",
    "\n",
    "pos = 1\n",
    "for data in X.to_numpy()[:8]:\n",
    "    plt.subplot(1, 8, pos)\n",
    "    plt.imshow(data.reshape((28, 28)), \n",
    "               cmap=cm.Greys_r)\n",
    "    plt.axis('off')\n",
    "    pos += 1\n",
    "\n",
    "plt.show()"
   ]
  },
  {
   "cell_type": "code",
   "execution_count": null,
   "id": "70eed77f-c28a-4c56-86ca-d4ce44bac59f",
   "metadata": {},
   "outputs": [],
   "source": [
    "y[:8]"
   ]
  },
  {
   "cell_type": "code",
   "execution_count": null,
   "id": "f1bc3ba9-233c-4399-8b57-b513aa2c3a40",
   "metadata": {},
   "outputs": [],
   "source": [
    "# X_train = X[:60000]\n",
    "# y_train = y[:60000]\n",
    "# X_test = X[60000:]\n",
    "# y_test = y[60000:]\n",
    "\n",
    "X_train = X[:1000]\n",
    "y_train = y[:1000]\n",
    "X_test = X[69000:]\n",
    "y_test = y[69000:]"
   ]
  },
  {
   "cell_type": "markdown",
   "id": "7b541618-1b5a-4a33-a184-64af26d8944f",
   "metadata": {},
   "source": [
    "Classification dengan SVC (Support Vector Classifier)"
   ]
  },
  {
   "cell_type": "code",
   "execution_count": null,
   "id": "b7079533-995a-4337-8eaf-718c8b7420b5",
   "metadata": {},
   "outputs": [],
   "source": [
    "from sklearn.svm import SVC\n",
    "\n",
    "model = SVC(random_state=0)\n",
    "model.fit(X_train, y_train)"
   ]
  },
  {
   "cell_type": "code",
   "execution_count": null,
   "id": "1e636437-24ad-4f9f-8459-f0bf5ba44502",
   "metadata": {},
   "outputs": [],
   "source": [
    "from sklearn.metrics import classification_report\n",
    "\n",
    "y_pred = model.predict(X_test)\n",
    "print(classification_report(y_test, y_pred))"
   ]
  },
  {
   "cell_type": "code",
   "execution_count": null,
   "id": "d7483c86-63a1-4ad2-8935-ef1d79c7b626",
   "metadata": {},
   "outputs": [],
   "source": [
    "from sklearn.model_selection import GridSearchCV\n",
    "\n",
    "parameters = {\n",
    "    'kernel': ['rbf', 'poly', 'sigmoid'],\n",
    "    'C': [0.5, 1, 10, 100],\n",
    "    'gamma': ['scale', 1, 0.1, 0.01, 0.001]\n",
    "}\n",
    "\n",
    "grid_search = GridSearchCV(estimator=SVC(random_state=0),\n",
    "                           param_grid=parameters,\n",
    "                           n_jobs=6,\n",
    "                           verbose=1,\n",
    "                           scoring='accuracy')\n",
    "\n",
    "grid_search.fit(X_train, y_train)"
   ]
  },
  {
   "cell_type": "code",
   "execution_count": null,
   "id": "d06b9f29-3d9d-4d54-950f-6d1153e1bd58",
   "metadata": {},
   "outputs": [],
   "source": [
    "print(f'Best Score: {grid_search.best_score_}')\n",
    "\n",
    "best_params = grid_search.best_estimator_.get_params()\n",
    "print(f'Best Parameters:')\n",
    "for param in parameters:\n",
    "    print(f'\\t{param}: {best_params[param]}')"
   ]
  },
  {
   "cell_type": "markdown",
   "id": "97fb1bfc-283e-42e0-b1ae-9f4a4aaaa75e",
   "metadata": {},
   "source": [
    "Predict & Evaluate"
   ]
  },
  {
   "cell_type": "code",
   "execution_count": null,
   "id": "7eaa3212-4b26-432b-b7e9-eed621b10425",
   "metadata": {},
   "outputs": [],
   "source": [
    "y_pred = grid_search.predict(X_test)\n",
    "\n",
    "print(classification_report(y_test, y_pred))"
   ]
  }
 ],
 "metadata": {
  "kernelspec": {
   "display_name": "Python 3 (ipykernel)",
   "language": "python",
   "name": "python3"
  },
  "language_info": {
   "codemirror_mode": {
    "name": "ipython",
    "version": 3
   },
   "file_extension": ".py",
   "mimetype": "text/x-python",
   "name": "python",
   "nbconvert_exporter": "python",
   "pygments_lexer": "ipython3",
   "version": "3.12.0"
  }
 },
 "nbformat": 4,
 "nbformat_minor": 5
}
